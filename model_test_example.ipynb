{
 "cells": [
  {
   "cell_type": "code",
   "execution_count": 1,
   "metadata": {},
   "outputs": [],
   "source": [
    "site_list = ['avenal-public-works-yard', \n",
    "    'avenal-movie-theatre',\n",
    "    'avenal-recreation-center', \n",
    "    'avenal-animal-shelter',\n",
    "    'avenal-veterans-hall',\n",
    "    'south-berkeley-senior-center', \n",
    "    'north-berkeley-senior-center', \n",
    "    'hayward-station-1',\n",
    "    'hayward-station-8',\n",
    "    'orinda-public-library',\n",
    "    'orinda-community-center',\n",
    "    'ciee',\n",
    "    'berkeley-corporate-yard',\n",
    "    'word-of-faith-cc', \n",
    "    'local-butcher-shop',\n",
    "    \"jesse-turner-center\"] "
   ]
  },
  {
   "cell_type": "code",
   "execution_count": 2,
   "metadata": {},
   "outputs": [],
   "source": [
    "# from dr_evaluation.test_models import test_models\n",
    "# test_models('jesse-turner-center')#, models=['power_3_10','ridge'])\n",
    "# #add comments"
   ]
  },
  {
   "cell_type": "code",
   "execution_count": 3,
   "metadata": {},
   "outputs": [
    {
     "name": "stderr",
     "output_type": "stream",
     "text": [
      "INFO:root:Got event ChannelConnectivity.IDLE\n",
      "INFO:root:loaded .pymortartoken.json token\n",
      "INFO:root:Got event ChannelConnectivity.IDLE\n",
      "INFO:root:loaded .pymortartoken.json token\n"
     ]
    }
   ],
   "source": [
    "from dr_evaluation.evaluate import evaluate"
   ]
  },
  {
   "cell_type": "code",
   "execution_count": 4,
   "metadata": {},
   "outputs": [
    {
     "name": "stderr",
     "output_type": "stream",
     "text": [
      "INFO:root:Got event ChannelConnectivity.IDLE\n",
      "INFO:root:loaded .pymortartoken.json token\n",
      "INFO:root:Got event ChannelConnectivity.CONNECTING\n",
      "INFO:root:Got event ChannelConnectivity.READY\n",
      "INFO:root:Got event ChannelConnectivity.CONNECTING\n",
      "INFO:root:Got event ChannelConnectivity.READY\n"
     ]
    }
   ],
   "source": [
    "results=evaluate('local-butcher-shop', '2018-07-10', model_name='best')"
   ]
  },
  {
   "cell_type": "code",
   "execution_count": 8,
   "metadata": {},
   "outputs": [
    {
     "data": {
      "text/plain": [
       "{'site': 'local-butcher-shop',\n",
       " 'date': datetime.date(2018, 7, 10),\n",
       " 'cost': {'actual': 68.27201592355998, 'baseline': 81.81387502717149},\n",
       " 'OAT_mean': {'event': 71.82500000000005, 'baseline': 63.26342500000003},\n",
       " 'baseline-type': 'Power Model: 5 out of 10 last days',\n",
       " 'baseline-rmse': 981.7837558019122,\n",
       " 'actual': array([ 5904.   ,  4932.   ,  6852.   ,  4584.   ,  6784.   ,  4664.   ,\n",
       "         5924.   ,  5944.   ,  5708.   ,  6948.   ,  5116.   ,  6940.   ,\n",
       "         5704.   ,  4968.   ,  5708.   ,  5132.   ,  5776.   ,  5948.   ,\n",
       "         5244.   ,  5744.   ,  5244.   ,  4416.   ,  4904.   ,  4512.   ,\n",
       "         5340.   ,  4644.   ,  6280.   ,  5616.   ,  5468.   ,  4155.996,\n",
       "         5240.   ,  4396.   ,  5156.   ,  6944.   ,  6916.   , 10232.   ,\n",
       "         9948.   ,  8456.   ,  8880.   ,  9032.   ,  9276.   ,  9048.   ,\n",
       "         9072.   ,  9492.   ,  9440.   ,  8343.996,  9560.   ,  8780.   ,\n",
       "         9536.   ,  9508.   ,  9372.   , 10816.   ,  8840.   ,  8788.   ,\n",
       "         9028.   , 11376.   ,  9340.   , 10692.   , 10576.   ,  9772.   ,\n",
       "        10736.   ,  9216.   ,  8444.   ,  8388.   ,  8680.   ,  9008.   ,\n",
       "        10844.   ,  9036.   ,  9824.   ,  9424.   ,  9868.   ,  9652.   ,\n",
       "         8488.   ,  9352.   ,  8624.   ,  9044.   ,  8272.   ,  7972.   ,\n",
       "         9616.   ,  7872.   ,  8096.   ,  7292.   ,  8816.   ,  7428.   ,\n",
       "         8548.   ,  5504.   ,  6832.   ,  5284.   ,  6404.   ,  5112.   ,\n",
       "         5888.   ,  6256.   ,  6148.   ,  4256.   ,  5124.   ,  4000.   ]),\n",
       " 'baseline': array([ 5178.60275361,  6371.10294257,  6294.8180601 ,  6908.60447075,\n",
       "         5569.6732578 ,  5963.37339835,  5433.76253289,  5635.43608752,\n",
       "         5272.4252675 ,  5690.67686447,  6291.31070918,  6108.05162372,\n",
       "         6374.61029349,  5976.52596429,  5263.65689021,  6153.64718565,\n",
       "         5802.03525612,  6026.50571487,  5622.28352157,  5663.49489486,\n",
       "         5108.45661208,  5678.40113626,  5079.52096701,  5368.00058002,\n",
       "         5403.95092693,  5618.77617066,  5261.90146107,  5568.79642007,\n",
       "         5213.67713962,  5638.0666007 ,  5648.58865346,  6234.31625677,\n",
       "         5990.55536796,  6905.09711984,  7722.30988373,  7529.40558324,\n",
       "         8742.07216314,  8201.94012177,  9508.42746189,  7365.43692782,\n",
       "         9221.70240118,  8604.40863961,  9872.31599647,  8791.175076  ,\n",
       "         8612.30017918,  8288.74705699,  8423.7791905 ,  9314.64720051,\n",
       "        10301.96648393, 10091.52542885, 10024.00804684, 10697.42029994,\n",
       "        10812.2860425 , 10563.26412732, 10416.8322265 , 10750.90740144,\n",
       "        10706.18867723, 10823.68493298, 11668.95650423, 11171.7895116 ,\n",
       "        11900.44166481, 12374.81087648, 11776.80754495, 11354.17175933,\n",
       "        11981.98757366, 10961.34845652, 12623.83279165, 12338.86052957,\n",
       "        12489.67661904, 11980.2338982 , 11528.66246751, 12258.19145845,\n",
       "        11242.81336769, 11474.29852828, 10450.15206022, 10546.60421046,\n",
       "         9947.72404121,  8865.706283  ,  9304.12427092,  8613.17701691,\n",
       "         8936.72926226,  8448.33152376,  8281.73235516,  7868.74178456,\n",
       "         7658.30072948,  7960.80974616,  6885.80668979,  6768.31043403,\n",
       "         6656.95204239,  6556.99254122,  6997.16508143,  7411.90932749,\n",
       "         5971.26493792,  6443.88047412,  4878.72512695,  5696.81472858])}"
      ]
     },
     "execution_count": 8,
     "metadata": {},
     "output_type": "execute_result"
    },
    {
     "name": "stderr",
     "output_type": "stream",
     "text": [
      "INFO:root:Got event ChannelConnectivity.IDLE\n",
      "INFO:root:Got event ChannelConnectivity.IDLE\n"
     ]
    }
   ],
   "source": [
    "results"
   ]
  },
  {
   "cell_type": "code",
   "execution_count": 7,
   "metadata": {},
   "outputs": [
    {
     "data": {
      "text/plain": [
       "array([ 6720.,  6080.,  8320.,  5760.,  7360.,  5440.,  6080.,  6720.,\n",
       "        4800.,  5120.,  5440.,  6080.,  6720.,  4800.,  5120.,  5440.,\n",
       "        6080.,  5440.,  5440.,  5760.,  6080.,  6720.,  5760.,  5440.,\n",
       "        5440.,  5440.,  5760.,  5760.,  6720., 15360., 16000., 18880.,\n",
       "       19520., 20480., 22080., 22080., 20480., 20160., 23360., 23040.,\n",
       "       24640., 25920., 25600., 28800., 27840., 25600., 26240., 27200.,\n",
       "       26240., 27520., 24320., 25920., 26240., 25280., 24000., 24320.,\n",
       "       23360., 22080., 20800., 21120., 21440., 20480., 20800., 19840.,\n",
       "       19840., 19520., 18560., 16960., 12800., 11200., 11840., 14720.,\n",
       "       16000., 18240., 19200., 19840., 19520., 18240., 16640., 12480.,\n",
       "       13120., 10240.,  8320.,  7360.,  7360.,  6080.,  7360.,  7040.,\n",
       "        6720.,  7360.,  7040.,  6400.,  6080.,  5120.,  5440.,  5440.])"
      ]
     },
     "execution_count": 7,
     "metadata": {},
     "output_type": "execute_result"
    }
   ],
   "source": [
    "results['actual']"
   ]
  },
  {
   "cell_type": "code",
   "execution_count": null,
   "metadata": {},
   "outputs": [],
   "source": [
    "trapz(results['actual'], dx=0.25)"
   ]
  },
  {
   "cell_type": "code",
   "execution_count": null,
   "metadata": {},
   "outputs": [],
   "source": [
    "#calculate event energy\n",
    "from numpy import trapz\n",
    "event_energy=trapz(results['actual'], dx=0.25) #0.25 accounts for 15 minute intervals and produce [=] wh\n",
    "event_energy"
   ]
  },
  {
   "cell_type": "code",
   "execution_count": null,
   "metadata": {},
   "outputs": [],
   "source": [
    "#calculate baseline energy\n",
    "baseline_energy=trapz(results['baseline'], dx=0.25) #0.25 accounts for 15 minute intervals and produce [=] wh\n",
    "baseline_energy"
   ]
  },
  {
   "cell_type": "code",
   "execution_count": null,
   "metadata": {},
   "outputs": [],
   "source": [
    "import matplotlib.pyplot as plt\n",
    "plt.figure(figsize=(15,8))\n",
    "plt.plot(results['actual'],'g')\n",
    "plt.plot(results['baseline'],'k');\n"
   ]
  },
  {
   "cell_type": "code",
   "execution_count": null,
   "metadata": {},
   "outputs": [],
   "source": []
  },
  {
   "cell_type": "code",
   "execution_count": null,
   "metadata": {},
   "outputs": [],
   "source": []
  },
  {
   "cell_type": "code",
   "execution_count": null,
   "metadata": {},
   "outputs": [],
   "source": []
  }
 ],
 "metadata": {
  "kernelspec": {
   "display_name": "Python [conda env:mortar]",
   "language": "python",
   "name": "conda-env-mortar-py"
  },
  "language_info": {
   "codemirror_mode": {
    "name": "ipython",
    "version": 3
   },
   "file_extension": ".py",
   "mimetype": "text/x-python",
   "name": "python",
   "nbconvert_exporter": "python",
   "pygments_lexer": "ipython3",
   "version": "3.6.6"
  }
 },
 "nbformat": 4,
 "nbformat_minor": 2
}
